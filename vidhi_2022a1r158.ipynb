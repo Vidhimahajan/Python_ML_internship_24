{
 "cells": [
  {
   "cell_type": "code",
   "execution_count": 10,
   "id": "8b2e6708",
   "metadata": {},
   "outputs": [
    {
     "name": "stdout",
     "output_type": "stream",
     "text": [
      "        * \n",
      "      * * \n",
      "    * * * \n",
      "  * * * * \n",
      "* * * * * \n"
     ]
    }
   ],
   "source": [
    "#write a code to print the following the pattern \n",
    "def pattern(n):\n",
    "    for i in range(1,n + 1):\n",
    "        print(' ' *(n - i) * 2, end='')\n",
    "        for j in range(i):\n",
    "            print('* ',end='')\n",
    "        print()\n",
    "rows = 5\n",
    "pattern(rows)"
   ]
  },
  {
   "cell_type": "code",
   "execution_count": 25,
   "id": "b728881a",
   "metadata": {},
   "outputs": [
    {
     "name": "stdout",
     "output_type": "stream",
     "text": [
      "Enter the first number:2\n",
      "Enter the second number:4\n",
      "0.5\n"
     ]
    }
   ],
   "source": [
    "#question2:\n",
    "def perform_division():\n",
    "    while True:\n",
    "        try:\n",
    "            num1 = float(input('Enter the first number:'))\n",
    "            num2 = float(input('Enter the second number:'))\n",
    "            result = num1 / num2\n",
    "            print(result)\n",
    "            break\n",
    "        except ZeroDivisionError:\n",
    "                print(\"Error:Division by zero is not allowed. Please try again.\")\n",
    "        except ValueError:\n",
    "                    print(\"Error:Invalid input! please enter numerical values.\")\n",
    "                \n",
    "if __name__ == \"__main__\":\n",
    "    perform_division()\n",
    "                    "
   ]
  },
  {
   "cell_type": "code",
   "execution_count": null,
   "id": "4b49b5b8",
   "metadata": {},
   "outputs": [],
   "source": []
  }
 ],
 "metadata": {
  "kernelspec": {
   "display_name": "Python 3 (ipykernel)",
   "language": "python",
   "name": "python3"
  },
  "language_info": {
   "codemirror_mode": {
    "name": "ipython",
    "version": 3
   },
   "file_extension": ".py",
   "mimetype": "text/x-python",
   "name": "python",
   "nbconvert_exporter": "python",
   "pygments_lexer": "ipython3",
   "version": "3.9.12"
  }
 },
 "nbformat": 4,
 "nbformat_minor": 5
}
